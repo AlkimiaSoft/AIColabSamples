{
  "cells": [
    {
      "cell_type": "markdown",
      "metadata": {
        "id": "view-in-github",
        "colab_type": "text"
      },
      "source": [
        "<a href=\"https://colab.research.google.com/github/AlkimiaSoft/AIColabSamples/blob/main/Generate_AI_Music_with_musicgen.ipynb\" target=\"_parent\"><img src=\"https://colab.research.google.com/assets/colab-badge.svg\" alt=\"Open In Colab\"/></a>"
      ]
    },
    {
      "cell_type": "markdown",
      "metadata": {
        "id": "7oIak3TwNwht"
      },
      "source": [
        "## Init"
      ]
    },
    {
      "cell_type": "markdown",
      "source": [
        "### Instal musicgen from github repository\n",
        "\n",
        "After the installation it will ask to reload the environment. Do it to start working with musicgen right away!"
      ],
      "metadata": {
        "id": "3dledvEdG2-r"
      }
    },
    {
      "cell_type": "code",
      "execution_count": null,
      "metadata": {
        "id": "76RpnS_yEa56"
      },
      "outputs": [],
      "source": [
        "#musicGen dependencies\n",
        "!pip install -U git+https://github.com/facebookresearch/audiocraft"
      ]
    },
    {
      "cell_type": "markdown",
      "source": [
        "### Import the needed libraries"
      ],
      "metadata": {
        "id": "oVOfj7jr3GZI"
      }
    },
    {
      "cell_type": "code",
      "source": [
        "from audiocraft.models import musicgen\n",
        "from IPython.display import Audio\n",
        "from audiocraft.data.audio import audio_write"
      ],
      "metadata": {
        "id": "4WUMc_r6xQ2d"
      },
      "execution_count": 1,
      "outputs": []
    },
    {
      "cell_type": "markdown",
      "source": [
        "## Basic usage"
      ],
      "metadata": {
        "id": "F4l3HX9lxRdc"
      }
    },
    {
      "cell_type": "markdown",
      "source": [
        "### Choose a model\n",
        "\n",
        "For more information go to https://github.com/facebookresearch/audiocraft/blob/main/docs/MUSICGEN.md"
      ],
      "metadata": {
        "id": "eltEu8HO3J0Z"
      }
    },
    {
      "cell_type": "code",
      "execution_count": null,
      "metadata": {
        "id": "Mkemj0D4EooS"
      },
      "outputs": [],
      "source": [
        "#model = musicgen.MusicGen.get_pretrained('melody', device='cuda')\n",
        "#model = musicgen.MusicGen.get_pretrained('facebook/musicgen-small', device='cuda')\n",
        "model = musicgen.MusicGen.get_pretrained('facebook/musicgen-medium', device='cuda')\n",
        "#model = musicgen.MusicGen.get_pretrained('facebook/musicgen-stereo-medium', device='cuda')\n",
        "#model = musicgen.MusicGen.get_pretrained('facebook/musicgen-large', device='cuda')"
      ]
    },
    {
      "cell_type": "markdown",
      "source": [
        "### Define some variables\n",
        "\n",
        "Feel free to change the values.\n",
        "\n",
        "*Note: In the free colab layer, longer durations will cause an overflow of GPU RAM when using the medium or large models*"
      ],
      "metadata": {
        "id": "Kpd16Yz63ZPO"
      }
    },
    {
      "cell_type": "code",
      "execution_count": null,
      "metadata": {
        "id": "WBg8LdMrL1MH"
      },
      "outputs": [],
      "source": [
        "duration = 45 # duration in seconds\n",
        "musicPrompts = [\"happy ukelele tune\"]\n",
        "model.set_generation_params(duration=duration)\n",
        "sampling_rate = model.sample_rate"
      ]
    },
    {
      "cell_type": "markdown",
      "source": [
        "### Generate the music"
      ],
      "metadata": {
        "id": "esvKRFIm3uWN"
      }
    },
    {
      "cell_type": "code",
      "execution_count": null,
      "metadata": {
        "id": "GrIdc747LewG"
      },
      "outputs": [],
      "source": [
        "audioGenerations = model.generate(musicPrompts,progress=True)"
      ]
    },
    {
      "cell_type": "markdown",
      "metadata": {
        "id": "QbIlsEafgn8w"
      },
      "source": [
        "## Save and display the music"
      ]
    },
    {
      "cell_type": "code",
      "execution_count": null,
      "metadata": {
        "id": "Qbs0SWjZOHdt"
      },
      "outputs": [],
      "source": [
        "audio_write(\"musicgen_basic_audio_test\", audioGenerations[0, 0].cpu(), model.sample_rate, strategy=\"loudness\", loudness_compressor=True)"
      ]
    },
    {
      "cell_type": "code",
      "execution_count": null,
      "metadata": {
        "id": "XLzbddEsZjKy"
      },
      "outputs": [],
      "source": [
        "Audio('/content/musicgen_basic_audio_test.wav', rate=sampling_rate)"
      ]
    },
    {
      "cell_type": "markdown",
      "metadata": {
        "id": "A15xOiGlghFw"
      },
      "source": [
        "### Alternative way ofsaving music using scipy\n"
      ]
    },
    {
      "cell_type": "code",
      "execution_count": null,
      "metadata": {
        "id": "AOk6t80bOrVm"
      },
      "outputs": [],
      "source": [
        "import locale\n",
        "locale.getpreferredencoding = lambda: \"UTF-8\"\n",
        "!pip install scipy\n",
        "import scipy\n"
      ]
    },
    {
      "cell_type": "code",
      "execution_count": null,
      "metadata": {
        "id": "SGzTOt0jMu3d"
      },
      "outputs": [],
      "source": [
        "audio_name = \"musicgen_basic_audio_test_scipy.wav\"\n",
        "scipy.io.wavfile.write(audio_name, rate=sampling_rate, data=audioGenerations[0, 0].cpu().numpy())\n",
        "\n",
        "Audio(audio_name, rate=sampling_rate)"
      ]
    },
    {
      "cell_type": "markdown",
      "source": [
        "## Generate multiple music passing a list of prompts\n",
        "\n",
        "We can pass multiple prompts and get multiple results in one generate call"
      ],
      "metadata": {
        "id": "HcCSmHeR0otR"
      }
    },
    {
      "cell_type": "code",
      "source": [
        "musicPrompts = [\"epic battle music\", \"piano melancholic balad\", \"animated lofi chill beats\"]"
      ],
      "metadata": {
        "id": "6YlEUVmW0Li7"
      },
      "execution_count": null,
      "outputs": []
    },
    {
      "cell_type": "code",
      "source": [
        "audioGenerations = model.generate(musicPrompts,progress=True)"
      ],
      "metadata": {
        "id": "Lq02KRoZ04nd"
      },
      "execution_count": null,
      "outputs": []
    },
    {
      "cell_type": "markdown",
      "source": [
        "### Saving and displaying the generated music"
      ],
      "metadata": {
        "id": "f5Dvpad-08jq"
      }
    },
    {
      "cell_type": "code",
      "execution_count": null,
      "metadata": {
        "id": "W22rpxccpE0M"
      },
      "outputs": [],
      "source": [
        "for idx, audioGeneration in enumerate(audioGenerations):\n",
        "    #save file\n",
        "    audio_write(f'audio_{idx}', audioGeneration.cpu(), model.sample_rate, strategy=\"loudness\", loudness_compressor=True)\n",
        "    #show audio file\n",
        "    display(Audio(f'/content/audio_test_{idx}.wav', rate=sampling_rate))\n"
      ]
    },
    {
      "cell_type": "markdown",
      "metadata": {
        "id": "Jk7_Ralr6t3E"
      },
      "source": [
        "## MODELS COMPARATION\n",
        "\n",
        "Let's compare the 3 sizes models to see if there is a lot of quality diference in quality.\n",
        "\n",
        "- `facebook/musicgen-small`: 300M model, text to music only - [🤗 Hub](https://huggingface.co/facebook/musicgen-small)\n",
        "- `facebook/musicgen-medium`: 1.5B model, text to music only - [🤗 Hub](https://huggingface.co/facebook/musicgen-medium)\n",
        "- `facebook/musicgen-large`: 3.3B model, text to music only - [🤗 Hub](https://huggingface.co/facebook/musicgen-large)\n"
      ]
    },
    {
      "cell_type": "markdown",
      "source": [
        "### Function to flush cache\n",
        "We will need a function to flush the cache because of the limitations of the Free Colab layer."
      ],
      "metadata": {
        "id": "6_Sh_8uM1G0b"
      }
    },
    {
      "cell_type": "code",
      "execution_count": 2,
      "metadata": {
        "id": "IJxlSyAazKTp"
      },
      "outputs": [],
      "source": [
        "import gc\n",
        "import torch\n",
        "\n",
        "def flush_cache():\n",
        "  gc.collect()\n",
        "  torch.cuda.empty_cache()\n",
        "\n",
        "flush_cache()"
      ]
    },
    {
      "cell_type": "markdown",
      "source": [
        "### Helper function to display Audios in a comparative grid"
      ],
      "metadata": {
        "id": "f4uWaCTl1rjo"
      }
    },
    {
      "cell_type": "code",
      "source": [
        "from google.colab import widgets\n",
        "from IPython.display import Audio\n",
        "\n",
        "def compare_audio(promptsList, modelsList):\n",
        "  grid = widgets.Grid(len(promptsList)+1, len(modelsList)+1)\n",
        "  for i, (row, col) in enumerate(grid):\n",
        "    #show prompt value\n",
        "    if (row == 0) & (col != 0):\n",
        "      print(modelsList[col-1])\n",
        "    else:\n",
        "      #show model value\n",
        "      if (row != 0) & (col == 0):\n",
        "        print(promptsList[row-1])\n",
        "\n",
        "    #show Audio content\n",
        "    if (row != 0) & (col != 0):\n",
        "      audio_file = f'/content/audio_{modelsList[col-1].split(\"/\")[-1]}_{row-1}.wav'\n",
        "      display(Audio(audio_file))"
      ],
      "metadata": {
        "id": "LRwdzwxJvbrY"
      },
      "execution_count": 3,
      "outputs": []
    },
    {
      "cell_type": "markdown",
      "source": [
        "### Generations for each model and each prompt"
      ],
      "metadata": {
        "id": "yRx_m7jp1x6W"
      }
    },
    {
      "cell_type": "code",
      "source": [
        "duration = 45 # duration in seconds\n",
        "musicPrompts = [\n",
        "    \"epic battle music\",\n",
        "    \"piano melancholic balad\",\n",
        "    \"animated lofi chill beats\"\n",
        "]\n",
        "models = [\n",
        "    'facebook/musicgen-small',\n",
        "    'facebook/musicgen-medium',\n",
        "    'facebook/musicgen-large'\n",
        "]\n",
        "\n",
        "audio_table = {}\n",
        "\n",
        "for model_name in models:\n",
        "    model = musicgen.MusicGen.get_pretrained(model_name, device='cuda')\n",
        "    model.set_generation_params(duration=duration)\n",
        "    sampling_rate = model.sample_rate\n",
        "    audioGenerations = model.generate(musicPrompts, progress=True)\n",
        "    audio_table[model_name] = audioGenerations\n",
        "    flush_cache()\n",
        "\n",
        "# Save and display the generated audios\n",
        "for model_name, audioGenerations in audio_table.items():\n",
        "    for idx, audioGeneration in enumerate(audioGenerations):\n",
        "        audio_write(f'audio_{model_name.split(\"/\")[-1]}_{idx}', audioGeneration.cpu(), sampling_rate, strategy=\"loudness\", loudness_compressor=True)\n"
      ],
      "metadata": {
        "id": "LH44yGjTx-h0"
      },
      "execution_count": null,
      "outputs": []
    },
    {
      "cell_type": "markdown",
      "source": [
        "### Showing the results"
      ],
      "metadata": {
        "id": "QlW75QpI134a"
      }
    },
    {
      "cell_type": "code",
      "source": [
        "compare_audio(musicPrompts,models)"
      ],
      "metadata": {
        "id": "W8zQ4Z5WvecO"
      },
      "execution_count": null,
      "outputs": []
    }
  ],
  "metadata": {
    "colab": {
      "collapsed_sections": [
        "5KWTT7rw_k8w"
      ],
      "provenance": [],
      "gpuType": "T4",
      "include_colab_link": true
    },
    "kernelspec": {
      "display_name": "Python 3",
      "name": "python3"
    },
    "language_info": {
      "name": "python"
    },
    "accelerator": "GPU"
  },
  "nbformat": 4,
  "nbformat_minor": 0
}